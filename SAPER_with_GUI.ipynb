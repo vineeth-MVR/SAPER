{
 "cells": [
  {
   "cell_type": "code",
   "execution_count": 1,
   "metadata": {},
   "outputs": [],
   "source": [
    "\n",
    "from textblob import TextBlob\n",
    "from twython import Twython\n",
    "from tkinter import *\n",
    "from PIL import ImageTk,Image \n",
    "import os\n",
    "import pandas as pd\n",
    "import tkinter as tk\n",
    "import warnings\n",
    "warnings.filterwarnings('ignore')\n",
    "%matplotlib inline"
   ]
  },
  {
   "cell_type": "code",
   "execution_count": 2,
   "metadata": {},
   "outputs": [],
   "source": [
    "def getFileName(image):\n",
    "    print (str(image))\n",
    "\n",
    "def show_img():\n",
    "    for images in os.listdir(os.getcwd()):\n",
    "        \n",
    "        if images.endswith(\"png\"):\n",
    "            im = Image.open(images)\n",
    "            tkimage = ImageTk.PhotoImage(im)\n",
    "            handler = lambda img = images: getFileName(img)  \n",
    "            imageButton = Button(frame, image=tkimage, command=handler)\n",
    "            imageButton.image=tkimage\n",
    "            imageButton.pack(side='left')"
   ]
  },
  {
   "cell_type": "code",
   "execution_count": 3,
   "metadata": {},
   "outputs": [],
   "source": [
    "def get_tweet_sentiment(tweet):\n",
    "    \n",
    "    analysis = TextBlob(tweet)\n",
    "    if analysis.sentiment.polarity > 0:\n",
    "        return 'positive'\n",
    "    elif analysis.sentiment.polarity == 0:\n",
    "        return 'neutral'\n",
    "    else:\n",
    "        return 'negative'"
   ]
  },
  {
   "cell_type": "code",
   "execution_count": 4,
   "metadata": {},
   "outputs": [],
   "source": [
    "def get_plot(candidate, text, sentiment):\n",
    "    df = pd.DataFrame()\n",
    "    df['text'] = text\n",
    "    df['sentiment'] = sentiment\n",
    "    \n",
    "    pl = df['sentiment'].value_counts().plot(kind='bar', title=candidate)\n",
    "    fig = pl.get_figure()\n",
    "    fig.savefig(candidate + '.png')"
   ]
  },
  {
   "cell_type": "code",
   "execution_count": 5,
   "metadata": {},
   "outputs": [],
   "source": [
    "def get_tweet(q):\n",
    "    app_key = 'bdKaYkyCcSmf9f6Wfqj8VvIuR'\n",
    "    app_secret = '1S1WMaZJxdIFyiniKjDeLFCBDRPP72bx2HCxI2cwMTx0Y7bYOy'\n",
    "    oauth_token = '786603866498269184-DSnfKXCZhYNRUjboLDwHWaZ7InaFslf'\n",
    "    oauth_token_secret = 'QDRQK2huoL8hpo3MvaqrNdrGtvWWxCd6sCCI8B0X95v8y'\n",
    "    \n",
    "    try:\n",
    "        t = Twython(app_key=app_key, app_secret=app_secret, oauth_token=oauth_token, oauth_token_secret=oauth_token_secret)\n",
    "        search =t.search(q=q,count=1000)\n",
    "        fetched_tweets = search['statuses']\n",
    "        text=[]\n",
    "        for i in fetched_tweets:\n",
    "            text.append(i.get('text'))\n",
    "        sentiment=[]\n",
    "        for tweet in text:\n",
    "            sentiment.append(get_tweet_sentiment(tweet))\n",
    "\n",
    "    except:\n",
    "        print(\"error\")\n",
    "        \n",
    "    \n",
    "    ptweets = [tweet for tweet in sentiment if tweet == 'positive']\n",
    "    ntweets = [tweet for tweet in sentiment if tweet == 'negative']\n",
    "    \n",
    "    positive_tweet=int(100*len(ptweets)/len(sentiment))\n",
    "    negative_tweets=int(100*len(ntweets)/len(sentiment))\n",
    "    neutral_tweets=int(100*(len(sentiment) - len(ntweets) - len(ptweets))/len(sentiment))\n",
    "    \n",
    "    get_plot(q, text, sentiment)\n"
   ]
  },
  {
   "cell_type": "code",
   "execution_count": 6,
   "metadata": {},
   "outputs": [
    {
     "data": {
      "image/png": "[encoded data removed]",
      "text/plain": [
       "<Figure size 432x288 with 1 Axes>"
      ]
     },
     "metadata": {
      "needs_background": "light"
     },
     "output_type": "display_data"
    }
   ],
   "source": [
    "root = tk.Tk()\n",
    "root.title(\"Sentiment Analysis to Predict Election Results\")\n",
    "HEIGHT = 740\n",
    "WIDTH = 1640\n",
    "\n",
    "\n",
    "canvas = Canvas(root, height=HEIGHT, width=WIDTH)\n",
    "canvas.pack()\n",
    "\n",
    "frame = Frame(root, bg='#00ffff')\n",
    "frame.place(relx=0.1, rely=0.1, relwidth=0.8, relheight=0.8)\n",
    "\n",
    "greet = Label(frame, text=\"Enter the Candidate names\")\n",
    "greet.config(font=(\"Calibri\", 44))\n",
    "greet.pack(fill='both')\n",
    "\n",
    "\n",
    "fields = ('Candidate 1', 'Candidate 2', 'Candidate 3')\n",
    "\n",
    "\n",
    "\n",
    "def display(root, fields):\n",
    "    entries = []\n",
    "    for field in fields:\n",
    "        row = Frame(root, bg='#00ffff')\n",
    "        lab = Label(row, width=40, text=field+\": \", anchor='e', bg='#00ffff')\n",
    "        lab.config(font=(\"Calibri\", 18))\n",
    "        ent = Entry(row)\n",
    "        ent.config(font=(\"Calibri\", 18))\n",
    "    \n",
    "        row.pack(side = TOP, fill = X, padx = 5 , pady = 5)\n",
    "        lab.pack(side = LEFT)\n",
    "        ent.pack(side = LEFT, expand = YES, ipady=5)\n",
    "        \n",
    "        entries.append((field, ent))\n",
    "    return entries\n",
    "\n",
    "\n",
    "def get_result(entries):\n",
    "#     lab = Label(frame, width=69, text='Click to  Display Graphs', anchor='n', bg='#00ffff')\n",
    "#     lab.pack()\n",
    "    b2 = Button(frame, text='Display Graphs', command=show_img)\n",
    "    b2.pack(padx=5, pady=5)\n",
    "    for entry in entries:\n",
    "        get_tweet(entry[1].get())\n",
    "\n",
    "ents = display(frame, fields)\n",
    "frame.bind('<Return>', (lambda event, e=ents: get_result(e)))\n",
    "\n",
    "b1 = Button(frame, text = 'Get Result', command=(lambda e=ents: get_result(e)))\n",
    "b1.pack(padx=5, pady=5)\n",
    "\n",
    "# b2 = Button(frame, text='Display Graphs', command=show_img)\n",
    "# b2.pack(padx=5, pady=5)\n",
    "\n",
    "root.mainloop()"
   ]
  },
  {
   "cell_type": "code",
   "execution_count": null,
   "metadata": {},
   "outputs": [],
   "source": []
  }
 ],
 "metadata": {
  "kernelspec": {
   "display_name": "Python 3",
   "language": "python",
   "name": "python3"
  },
  "language_info": {
   "codemirror_mode": {
    "name": "ipython",
    "version": 3
   },
   "file_extension": ".py",
   "mimetype": "text/x-python",
   "name": "python",
   "nbconvert_exporter": "python",
   "pygments_lexer": "ipython3",
   "version": "3.7.6"
  }
 },
 "nbformat": 4,
 "nbformat_minor": 4
}
