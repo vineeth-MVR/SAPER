{
 "cells": [
  {
   "cell_type": "code",
   "execution_count": 1,
   "metadata": {},
   "outputs": [],
   "source": [
    "# import re\n",
    "from textblob import TextBlob\n",
    "from twython import Twython\n",
    "# import nltk\n",
    "import pandas as pd"
   ]
  },
  {
   "cell_type": "code",
   "execution_count": 2,
   "metadata": {},
   "outputs": [],
   "source": [
    "def get_tweet_sentiment(tweet):\n",
    "    analysis = TextBlob(tweet)\n",
    "    if analysis.sentiment.polarity > 0:\n",
    "        return 'positive'\n",
    "    elif analysis.sentiment.polarity == 0:\n",
    "        return 'neutral'\n",
    "    else:\n",
    "        return 'negative'"
   ]
  },
  {
   "cell_type": "code",
   "execution_count": 3,
   "metadata": {},
   "outputs": [],
   "source": [
    "def get_tweet(q):\n",
    "    app_key = 'bdKaYkyCcSmf9f6Wfqj8VvIuR'\n",
    "    app_secret = '1S1WMaZJxdIFyiniKjDeLFCBDRPP72bx2HCxI2cwMTx0Y7bYOy'\n",
    "    oauth_token = '786603866498269184-DSnfKXCZhYNRUjboLDwHWaZ7InaFslf'\n",
    "    oauth_token_secret = 'QDRQK2huoL8hpo3MvaqrNdrGtvWWxCd6sCCI8B0X95v8y'\n",
    "    try:\n",
    "        t = Twython(app_key=app_key, app_secret=app_secret, oauth_token=oauth_token, oauth_token_secret=oauth_token_secret)\n",
    "        search =t.search(q=q,count=200)\n",
    "        fetched_tweets = search['statuses']\n",
    "        text=[]\n",
    "        for i in fetched_tweets:\n",
    "            text.append(i.get('text'))\n",
    "        sentiment=[]\n",
    "        for tweet in text:\n",
    "            sentiment.append(get_tweet_sentiment(tweet))\n",
    "\n",
    "    except:\n",
    "        print(\"error\")\n",
    "    ptweets = [tweet for tweet in sentiment if tweet == 'positive']\n",
    "    ntweets = [tweet for tweet in sentiment if tweet == 'negative']\n",
    "    positive_tweet=int(100*len(ptweets)/len(sentiment))\n",
    "    negative_tweets=int(100*len(ntweets)/len(sentiment))\n",
    "    neutral_tweets=int(100*(len(sentiment) - len(ntweets) - len(ptweets))/len(sentiment))\n",
    "    return text,sentiment,positive_tweet,negative_tweets,neutral_tweets\n"
   ]
  },
  {
   "cell_type": "code",
   "execution_count": 4,
   "metadata": {},
   "outputs": [],
   "source": [
    "text_cand_1,sentiment_cand_1,x1,y1,z1=get_tweet('JSP')\n",
    "text_cand_2,sentiment_cand_2,x2,wy2,z2=get_tweet('TDP')\n",
    "text_cand_3,sentiment_cand_3,x3,y3,z3=get_tweet('YSRCP')"
   ]
  },
  {
   "cell_type": "code",
   "execution_count": 5,
   "metadata": {},
   "outputs": [
    {
     "data": {
      "text/html": [
       "<div>\n",
       "<style scoped>\n",
       "    .dataframe tbody tr th:only-of-type {\n",
       "        vertical-align: middle;\n",
       "    }\n",
       "\n",
       "    .dataframe tbody tr th {\n",
       "        vertical-align: top;\n",
       "    }\n",
       "\n",
       "    .dataframe thead th {\n",
       "        text-align: right;\n",
       "    }\n",
       "</style>\n",
       "<table border=\"1\" class=\"dataframe\">\n",
       "  <thead>\n",
       "    <tr style=\"text-align: right;\">\n",
       "      <th></th>\n",
       "      <th>text</th>\n",
       "      <th>sentiment</th>\n",
       "    </tr>\n",
       "  </thead>\n",
       "  <tbody>\n",
       "    <tr>\n",
       "      <th>0</th>\n",
       "      <td>@denzelent @bulmasuzuya Jsp jvais te dire et t...</td>\n",
       "      <td>neutral</td>\n",
       "    </tr>\n",
       "    <tr>\n",
       "      <th>1</th>\n",
       "      <td>RT @clempcqr: jsp si jdois lui envoyer un mess...</td>\n",
       "      <td>neutral</td>\n",
       "    </tr>\n",
       "    <tr>\n",
       "      <th>2</th>\n",
       "      <td>vous avez 2 de tension le matin certain bande ...</td>\n",
       "      <td>positive</td>\n",
       "    </tr>\n",
       "    <tr>\n",
       "      <th>3</th>\n",
       "      <td>RT @adp_au: INFOBAR xvをお使いの皆様、\\nお待たせしました。\\nお待た...</td>\n",
       "      <td>neutral</td>\n",
       "    </tr>\n",
       "    <tr>\n",
       "      <th>4</th>\n",
       "      <td>RT @ShayarImran: #BHU के संस्थापक महामना मदन म...</td>\n",
       "      <td>neutral</td>\n",
       "    </tr>\n",
       "    <tr>\n",
       "      <th>...</th>\n",
       "      <td>...</td>\n",
       "      <td>...</td>\n",
       "    </tr>\n",
       "    <tr>\n",
       "      <th>95</th>\n",
       "      <td>Sports Car https://t.co/jvxCJBELYm https://t.c...</td>\n",
       "      <td>neutral</td>\n",
       "    </tr>\n",
       "    <tr>\n",
       "      <th>96</th>\n",
       "      <td>Amazing TOP 5 Creations You Can Do By Yourself...</td>\n",
       "      <td>positive</td>\n",
       "    </tr>\n",
       "    <tr>\n",
       "      <th>97</th>\n",
       "      <td>RT @clempcqr: jsp si jdois lui envoyer un mess...</td>\n",
       "      <td>neutral</td>\n",
       "    </tr>\n",
       "    <tr>\n",
       "      <th>98</th>\n",
       "      <td>RT @jellpdesu: https://t.co/5125g13ol1 \\n멜론이벤트...</td>\n",
       "      <td>neutral</td>\n",
       "    </tr>\n",
       "    <tr>\n",
       "      <th>99</th>\n",
       "      <td>RT @balecouille: en cmoment jsp où est ma tête...</td>\n",
       "      <td>neutral</td>\n",
       "    </tr>\n",
       "  </tbody>\n",
       "</table>\n",
       "<p>100 rows × 2 columns</p>\n",
       "</div>"
      ],
      "text/plain": [
       "                                                 text sentiment\n",
       "0   @denzelent @bulmasuzuya Jsp jvais te dire et t...   neutral\n",
       "1   RT @clempcqr: jsp si jdois lui envoyer un mess...   neutral\n",
       "2   vous avez 2 de tension le matin certain bande ...  positive\n",
       "3   RT @adp_au: INFOBAR xvをお使いの皆様、\\nお待たせしました。\\nお待た...   neutral\n",
       "4   RT @ShayarImran: #BHU के संस्थापक महामना मदन म...   neutral\n",
       "..                                                ...       ...\n",
       "95  Sports Car https://t.co/jvxCJBELYm https://t.c...   neutral\n",
       "96  Amazing TOP 5 Creations You Can Do By Yourself...  positive\n",
       "97  RT @clempcqr: jsp si jdois lui envoyer un mess...   neutral\n",
       "98  RT @jellpdesu: https://t.co/5125g13ol1 \\n멜론이벤트...   neutral\n",
       "99  RT @balecouille: en cmoment jsp où est ma tête...   neutral\n",
       "\n",
       "[100 rows x 2 columns]"
      ]
     },
     "execution_count": 5,
     "metadata": {},
     "output_type": "execute_result"
    }
   ],
   "source": [
    "df_cand_1=pd.DataFrame()\n",
    "df_cand_1['text']=text_cand_1\n",
    "df_cand_1['sentiment']=sentiment_cand_1\n",
    "%matplotlib inline\n",
    "\n",
    "df_cand_1"
   ]
  },
  {
   "cell_type": "code",
   "execution_count": 6,
   "metadata": {},
   "outputs": [
    {
     "data": {
      "text/plain": [
       "<matplotlib.axes._subplots.AxesSubplot at 0x7f20f52e1f98>"
      ]
     },
     "execution_count": 6,
     "metadata": {},
     "output_type": "execute_result"
    },
    {
     "data": {
      "image/png": "[encoded data removed]",
      "text/plain": [
       "<Figure size 432x288 with 1 Axes>"
      ]
     },
     "metadata": {
      "needs_background": "light"
     },
     "output_type": "display_data"
    }
   ],
   "source": [
    "df_cand_1['sentiment'].value_counts().plot(kind='bar')\n"
   ]
  },
  {
   "cell_type": "code",
   "execution_count": 7,
   "metadata": {},
   "outputs": [
    {
     "data": {
      "text/html": [
       "<div>\n",
       "<style scoped>\n",
       "    .dataframe tbody tr th:only-of-type {\n",
       "        vertical-align: middle;\n",
       "    }\n",
       "\n",
       "    .dataframe tbody tr th {\n",
       "        vertical-align: top;\n",
       "    }\n",
       "\n",
       "    .dataframe thead th {\n",
       "        text-align: right;\n",
       "    }\n",
       "</style>\n",
       "<table border=\"1\" class=\"dataframe\">\n",
       "  <thead>\n",
       "    <tr style=\"text-align: right;\">\n",
       "      <th></th>\n",
       "      <th>text</th>\n",
       "      <th>sentiment</th>\n",
       "    </tr>\n",
       "  </thead>\n",
       "  <tbody>\n",
       "    <tr>\n",
       "      <th>0</th>\n",
       "      <td>RT @vinayk1111: జైలు కి వెళ్లొచ్చు అని హింట్ ఇ...</td>\n",
       "      <td>neutral</td>\n",
       "    </tr>\n",
       "    <tr>\n",
       "      <th>1</th>\n",
       "      <td>RT @RavanSunkara: vallabaneni Vamshi view abou...</td>\n",
       "      <td>neutral</td>\n",
       "    </tr>\n",
       "    <tr>\n",
       "      <th>2</th>\n",
       "      <td>RT @pdinakar: After all the heavy build up bef...</td>\n",
       "      <td>neutral</td>\n",
       "    </tr>\n",
       "    <tr>\n",
       "      <th>3</th>\n",
       "      <td>TDP reaches out to BJP with a ‘Hindutva makeov...</td>\n",
       "      <td>neutral</td>\n",
       "    </tr>\n",
       "    <tr>\n",
       "      <th>4</th>\n",
       "      <td>RT @thespacenico: can we all spam aaron with \"...</td>\n",
       "      <td>positive</td>\n",
       "    </tr>\n",
       "    <tr>\n",
       "      <th>...</th>\n",
       "      <td>...</td>\n",
       "      <td>...</td>\n",
       "    </tr>\n",
       "    <tr>\n",
       "      <th>93</th>\n",
       "      <td>Iba nga pala timezone nitong Netflix nasan na ...</td>\n",
       "      <td>neutral</td>\n",
       "    </tr>\n",
       "    <tr>\n",
       "      <th>94</th>\n",
       "      <td>RT @galeezpilla: Tell me when u find it 😉\\n\\n#...</td>\n",
       "      <td>neutral</td>\n",
       "    </tr>\n",
       "    <tr>\n",
       "      <th>95</th>\n",
       "      <td>RT @prasana_kumar: 🤣🤣🤣@TagoreMallineni @turaga...</td>\n",
       "      <td>neutral</td>\n",
       "    </tr>\n",
       "    <tr>\n",
       "      <th>96</th>\n",
       "      <td>RT @prasana_kumar: 🤣🤣🤣@TagoreMallineni @turaga...</td>\n",
       "      <td>neutral</td>\n",
       "    </tr>\n",
       "    <tr>\n",
       "      <th>97</th>\n",
       "      <td>RT @prasana_kumar: 🤣🤣🤣@TagoreMallineni @turaga...</td>\n",
       "      <td>neutral</td>\n",
       "    </tr>\n",
       "  </tbody>\n",
       "</table>\n",
       "<p>98 rows × 2 columns</p>\n",
       "</div>"
      ],
      "text/plain": [
       "                                                 text sentiment\n",
       "0   RT @vinayk1111: జైలు కి వెళ్లొచ్చు అని హింట్ ఇ...   neutral\n",
       "1   RT @RavanSunkara: vallabaneni Vamshi view abou...   neutral\n",
       "2   RT @pdinakar: After all the heavy build up bef...   neutral\n",
       "3   TDP reaches out to BJP with a ‘Hindutva makeov...   neutral\n",
       "4   RT @thespacenico: can we all spam aaron with \"...  positive\n",
       "..                                                ...       ...\n",
       "93  Iba nga pala timezone nitong Netflix nasan na ...   neutral\n",
       "94  RT @galeezpilla: Tell me when u find it 😉\\n\\n#...   neutral\n",
       "95  RT @prasana_kumar: 🤣🤣🤣@TagoreMallineni @turaga...   neutral\n",
       "96  RT @prasana_kumar: 🤣🤣🤣@TagoreMallineni @turaga...   neutral\n",
       "97  RT @prasana_kumar: 🤣🤣🤣@TagoreMallineni @turaga...   neutral\n",
       "\n",
       "[98 rows x 2 columns]"
      ]
     },
     "execution_count": 7,
     "metadata": {},
     "output_type": "execute_result"
    }
   ],
   "source": [
    "df_cand_2=pd.DataFrame()\n",
    "df_cand_2['text']=text_cand_2\n",
    "df_cand_2['sentiment']=sentiment_cand_2\n",
    "\n",
    "df_cand_2"
   ]
  },
  {
   "cell_type": "code",
   "execution_count": 8,
   "metadata": {},
   "outputs": [
    {
     "data": {
      "text/plain": [
       "<matplotlib.axes._subplots.AxesSubplot at 0x7f20f5493e48>"
      ]
     },
     "execution_count": 8,
     "metadata": {},
     "output_type": "execute_result"
    },
    {
     "data": {
      "image/png": "[encoded data removed]",
      "text/plain": [
       "<Figure size 432x288 with 1 Axes>"
      ]
     },
     "metadata": {
      "needs_background": "light"
     },
     "output_type": "display_data"
    }
   ],
   "source": [
    "df_cand_2['sentiment'].value_counts().plot(kind='bar')"
   ]
  },
  {
   "cell_type": "code",
   "execution_count": 9,
   "metadata": {},
   "outputs": [
    {
     "data": {
      "text/html": [
       "<div>\n",
       "<style scoped>\n",
       "    .dataframe tbody tr th:only-of-type {\n",
       "        vertical-align: middle;\n",
       "    }\n",
       "\n",
       "    .dataframe tbody tr th {\n",
       "        vertical-align: top;\n",
       "    }\n",
       "\n",
       "    .dataframe thead th {\n",
       "        text-align: right;\n",
       "    }\n",
       "</style>\n",
       "<table border=\"1\" class=\"dataframe\">\n",
       "  <thead>\n",
       "    <tr style=\"text-align: right;\">\n",
       "      <th></th>\n",
       "      <th>text</th>\n",
       "      <th>sentiment</th>\n",
       "    </tr>\n",
       "  </thead>\n",
       "  <tbody>\n",
       "    <tr>\n",
       "      <th>0</th>\n",
       "      <td>RT @YSRCParty: నాలుగేళ్లు అధికారం అనుభవించి చి...</td>\n",
       "      <td>neutral</td>\n",
       "    </tr>\n",
       "    <tr>\n",
       "      <th>1</th>\n",
       "      <td>RT @thota_J: Sakshi Investments 😇\\n\\n2017 lo G...</td>\n",
       "      <td>neutral</td>\n",
       "    </tr>\n",
       "    <tr>\n",
       "      <th>2</th>\n",
       "      <td>RT @anigalla: గాంధీ పుట్టిన దేశం \\nరంగులు వేసే...</td>\n",
       "      <td>neutral</td>\n",
       "    </tr>\n",
       "    <tr>\n",
       "      <th>3</th>\n",
       "      <td>RT @JSPShatagniTeam: నేడు వైసీపీ \"కరప్షన్ మార్...</td>\n",
       "      <td>neutral</td>\n",
       "    </tr>\n",
       "    <tr>\n",
       "      <th>4</th>\n",
       "      <td>RT @JSPShatagniTeam: నేడు వైసీపీ \"కరప్షన్ మార్...</td>\n",
       "      <td>neutral</td>\n",
       "    </tr>\n",
       "    <tr>\n",
       "      <th>...</th>\n",
       "      <td>...</td>\n",
       "      <td>...</td>\n",
       "    </tr>\n",
       "    <tr>\n",
       "      <th>95</th>\n",
       "      <td>RT @TrendPSPK: ఇంకెన్ని దారుణాలు చూడాలో..!!\\n\\...</td>\n",
       "      <td>neutral</td>\n",
       "    </tr>\n",
       "    <tr>\n",
       "      <th>96</th>\n",
       "      <td>RT @TrendPSPK: ఇంకెన్ని దారుణాలు చూడాలో..!!\\n\\...</td>\n",
       "      <td>neutral</td>\n",
       "    </tr>\n",
       "    <tr>\n",
       "      <th>97</th>\n",
       "      <td>RT @TrendPSPK: ఇంకెన్ని దారుణాలు చూడాలో..!!\\n\\...</td>\n",
       "      <td>neutral</td>\n",
       "    </tr>\n",
       "    <tr>\n",
       "      <th>98</th>\n",
       "      <td>RT @ChiruFollower: Istam unna party ki meru su...</td>\n",
       "      <td>neutral</td>\n",
       "    </tr>\n",
       "    <tr>\n",
       "      <th>99</th>\n",
       "      <td>RT @JSPShatagniTeam: నేడు వైసీపీ \"కరప్షన్ మార్...</td>\n",
       "      <td>neutral</td>\n",
       "    </tr>\n",
       "  </tbody>\n",
       "</table>\n",
       "<p>100 rows × 2 columns</p>\n",
       "</div>"
      ],
      "text/plain": [
       "                                                 text sentiment\n",
       "0   RT @YSRCParty: నాలుగేళ్లు అధికారం అనుభవించి చి...   neutral\n",
       "1   RT @thota_J: Sakshi Investments 😇\\n\\n2017 lo G...   neutral\n",
       "2   RT @anigalla: గాంధీ పుట్టిన దేశం \\nరంగులు వేసే...   neutral\n",
       "3   RT @JSPShatagniTeam: నేడు వైసీపీ \"కరప్షన్ మార్...   neutral\n",
       "4   RT @JSPShatagniTeam: నేడు వైసీపీ \"కరప్షన్ మార్...   neutral\n",
       "..                                                ...       ...\n",
       "95  RT @TrendPSPK: ఇంకెన్ని దారుణాలు చూడాలో..!!\\n\\...   neutral\n",
       "96  RT @TrendPSPK: ఇంకెన్ని దారుణాలు చూడాలో..!!\\n\\...   neutral\n",
       "97  RT @TrendPSPK: ఇంకెన్ని దారుణాలు చూడాలో..!!\\n\\...   neutral\n",
       "98  RT @ChiruFollower: Istam unna party ki meru su...   neutral\n",
       "99  RT @JSPShatagniTeam: నేడు వైసీపీ \"కరప్షన్ మార్...   neutral\n",
       "\n",
       "[100 rows x 2 columns]"
      ]
     },
     "execution_count": 9,
     "metadata": {},
     "output_type": "execute_result"
    }
   ],
   "source": [
    "df_cand_3=pd.DataFrame()\n",
    "df_cand_3['text']=text_cand_3\n",
    "df_cand_3['sentiment']=sentiment_cand_3\n",
    "\n",
    "df_cand_3"
   ]
  },
  {
   "cell_type": "code",
   "execution_count": 10,
   "metadata": {},
   "outputs": [
    {
     "data": {
      "text/plain": [
       "<matplotlib.axes._subplots.AxesSubplot at 0x7f20f541f080>"
      ]
     },
     "execution_count": 10,
     "metadata": {},
     "output_type": "execute_result"
    },
    {
     "data": {
      "image/png": "[encoded data removed]",
      "text/plain": [
       "<Figure size 432x288 with 1 Axes>"
      ]
     },
     "metadata": {
      "needs_background": "light"
     },
     "output_type": "display_data"
    }
   ],
   "source": [
    "df_cand_3['sentiment'].value_counts().plot(kind='bar')"
   ]
  }
 ],
 "metadata": {
  "kernelspec": {
   "display_name": "Python 3",
   "language": "python",
   "name": "python3"
  },
  "language_info": {
   "codemirror_mode": {
    "name": "ipython",
    "version": 3
   },
   "file_extension": ".py",
   "mimetype": "text/x-python",
   "name": "python",
   "nbconvert_exporter": "python",
   "pygments_lexer": "ipython3",
   "version": "3.7.6"
  }
 },
 "nbformat": 4,
 "nbformat_minor": 4
}
